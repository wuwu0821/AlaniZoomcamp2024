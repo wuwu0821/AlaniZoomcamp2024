{
 "cells": [
  {
   "cell_type": "code",
   "execution_count": 1,
   "id": "e2ef9a5f-1756-453a-957f-8e3c2f10703e",
   "metadata": {},
   "outputs": [
    {
     "name": "stdout",
     "output_type": "stream",
     "text": [
      "alanin\n"
     ]
    }
   ],
   "source": [
    "print('alanin')"
   ]
  },
  {
   "cell_type": "code",
   "execution_count": null,
   "id": "c750d7b7-24b7-4563-9b4f-d55bab1f90a2",
   "metadata": {},
   "outputs": [],
   "source": []
  }
 ],
 "metadata": {
  "kernelspec": {
   "display_name": "Python 3 (ipykernel)",
   "language": "python",
   "name": "python3"
  },
  "language_info": {
   "codemirror_mode": {
    "name": "ipython",
    "version": 3
   },
   "file_extension": ".py",
   "mimetype": "text/x-python",
   "name": "python",
   "nbconvert_exporter": "python",
   "pygments_lexer": "ipython3",
   "version": "3.10.13"
  }
 },
 "nbformat": 4,
 "nbformat_minor": 5
}
